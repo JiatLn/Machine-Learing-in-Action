{
 "cells": [
  {
   "cell_type": "markdown",
   "metadata": {},
   "source": [
    "### 导入依赖包"
   ]
  },
  {
   "cell_type": "code",
   "execution_count": 1,
   "metadata": {},
   "outputs": [
    {
     "name": "stderr",
     "output_type": "stream",
     "text": [
      "f:\\software\\python35\\lib\\site-packages\\sklearn\\cross_validation.py:41: DeprecationWarning: This module was deprecated in version 0.18 in favor of the model_selection module into which all the refactored classes and functions are moved. Also note that the interface of the new CV iterators are different from that of this module. This module will be removed in 0.20.\n",
      "  \"This module will be removed in 0.20.\", DeprecationWarning)\n"
     ]
    }
   ],
   "source": [
    "import os\n",
    "import pandas as pd\n",
    "import numpy as np\n",
    "\n",
    "from collections import defaultdict\n",
    "\n",
    "from sklearn.tree import DecisionTreeClassifier\n",
    "from sklearn.cross_validation import cross_val_score\n",
    "from sklearn.preprocessing import LabelEncoder\n",
    "from sklearn.preprocessing import OneHotEncoder"
   ]
  },
  {
   "cell_type": "markdown",
   "metadata": {},
   "source": [
    "### 加载数据集"
   ]
  },
  {
   "cell_type": "markdown",
   "metadata": {},
   "source": [
    "- 修改头部属性名称\n",
    "- 将日期字符串格式转为日期对象格式\n",
    "\n",
    "\\* 注意：在Windows下，读取csv文件要重新编码"
   ]
  },
  {
   "cell_type": "code",
   "execution_count": 10,
   "metadata": {
    "collapsed": true
   },
   "outputs": [],
   "source": [
    "data_folder = \"D:\\dataset\\Data\"\n",
    "data_filename = os.path.join(data_folder, \"basketball\", \"leagues_NBA_2014_games_games.csv\")\n",
    "dataset = pd.read_csv(data_filename, encoding='gbk')\n",
    "\n",
    "dataset.columns = [\"Date\", \"Start Time\", \"Visitor Team\",\"VisitorPts\", \"Home Team\", \"HomePts\", \"OT?\", \"Notes\"]\n",
    "dataset['Date'] = pd.to_datetime(dataset['Date'])"
   ]
  },
  {
   "cell_type": "markdown",
   "metadata": {},
   "source": [
    "### 提取新特征（1）"
   ]
  },
  {
   "cell_type": "markdown",
   "metadata": {},
   "source": [
    "- 找出主场获胜的球队"
   ]
  },
  {
   "cell_type": "code",
   "execution_count": 11,
   "metadata": {
    "collapsed": true
   },
   "outputs": [],
   "source": [
    "dataset[\"HomeWin\"] = dataset[\"VisitorPts\"] < dataset[\"HomePts\"]\n",
    "y_true = dataset[\"HomeWin\"].values\n",
    "won_last = defaultdict(int)\n",
    "# 初始化\n",
    "dataset[\"HomeLastWin\"] = False\n",
    "dataset[\"VisitorLastWin\"] = True\n",
    "for index, row in dataset.sort_values(\"Date\").iterrows():\n",
    "    home_team = row[\"Home Team\"]\n",
    "    visitor_team = row[\"Visitor Team\"]\n",
    "    row[\"HomeLastWin\"] = won_last[home_team]\n",
    "    row[\"VisitorLastWin\"] = won_last[visitor_team]\n",
    "    dataset.iloc[index] = row\n",
    "    won_last[home_team] = row[\"HomeWin\"]\n",
    "    won_last[visitor_team] = not row[\"HomeWin\"]"
   ]
  },
  {
   "cell_type": "markdown",
   "metadata": {},
   "source": [
    "### 使用分类器"
   ]
  },
  {
   "cell_type": "code",
   "execution_count": 12,
   "metadata": {},
   "outputs": [
    {
     "name": "stdout",
     "output_type": "stream",
     "text": [
      "Accuracy: 57.6%\n"
     ]
    }
   ],
   "source": [
    "clf = DecisionTreeClassifier(random_state=14)\n",
    "\n",
    "X_previouswins = dataset[[\"HomeLastWin\", \"VisitorLastWin\"]].values\n",
    "\n",
    "scores = cross_val_score(clf, X_previouswins, y_true, scoring='accuracy')\n",
    "print(\"Accuracy: {0:.1f}%\".format(np.mean(scores) * 100))"
   ]
  },
  {
   "cell_type": "markdown",
   "metadata": {},
   "source": [
    "### 添加新特征（2）"
   ]
  },
  {
   "cell_type": "markdown",
   "metadata": {},
   "source": [
    "创建一个叫作“主场队是否通常比对手水平高”的特征，并使用2013赛季的战绩作为特征取值来源。\n",
    "\n",
    "如果一支球队在2013赛季排名在对手前面，我们就认为它的水平更高。"
   ]
  },
  {
   "cell_type": "code",
   "execution_count": 15,
   "metadata": {
    "collapsed": true
   },
   "outputs": [],
   "source": [
    "## 读取13赛季数据\n",
    "standings_filename = os.path.join(data_folder, \"basketball\", \"leagues_NBA_2013_standings_expanded-standings.csv\")\n",
    "# 同样的，注意修改编码\n",
    "standings = pd.read_csv(standings_filename, skiprows=[0], encoding='gbk')\n",
    "\n",
    "dataset[\"HomeTeamRanksHigher\"] = 0\n",
    "for index, row in dataset.iterrows():\n",
    "    home_team = row[\"Home Team\"]\n",
    "    visitor_team = row[\"Visitor Team\"]\n",
    "\n",
    "    if home_team == \"New Orleans Pelicans\":\n",
    "        home_team = \"New Orleans Hornets\"\n",
    "    elif visitor_team == \"New Orleans Pelicans\":\n",
    "        visitor_team = \"New Orleans Hornets\"\n",
    "\n",
    "    home_rank = standings[standings[\"Team\"] == home_team][\"Rk\"].values[0]\n",
    "    visitor_rank = standings[standings[\"Team\"] == visitor_team][\"Rk\"].values[0]\n",
    "    row[\"HomeTeamRanksHigher\"] = int(home_rank > visitor_rank)\n",
    "    dataset.iloc[index] = row"
   ]
  },
  {
   "cell_type": "markdown",
   "metadata": {},
   "source": [
    "### 再次使用分类器"
   ]
  },
  {
   "cell_type": "code",
   "execution_count": 16,
   "metadata": {},
   "outputs": [
    {
     "name": "stdout",
     "output_type": "stream",
     "text": [
      "Accuracy: 60.8%\n"
     ]
    }
   ],
   "source": [
    "clf = DecisionTreeClassifier(random_state=14)\n",
    "\n",
    "X_homehigher = dataset[[\"HomeLastWin\", \"VisitorLastWin\",\"HomeTeamRanksHigher\"]].values\n",
    "\n",
    "scores = cross_val_score(clf, X_homehigher, y_true, scoring='accuracy')\n",
    "print(\"Accuracy: {0:.1f}%\".format(np.mean(scores) * 100))"
   ]
  },
  {
   "cell_type": "markdown",
   "metadata": {},
   "source": [
    "### 添加新特征（3）"
   ]
  },
  {
   "cell_type": "markdown",
   "metadata": {},
   "source": [
    "统计两支球队上场比赛的情况，作为另一个特征。\n",
    "\n",
    "虽然球队排名有助于预测（排名靠前的胜算更大），但有时排名靠后的球队反而能战胜排名靠前的。"
   ]
  },
  {
   "cell_type": "code",
   "execution_count": 17,
   "metadata": {
    "collapsed": true
   },
   "outputs": [],
   "source": [
    "last_match_winner = defaultdict(int)\n",
    "dataset[\"HomeTeamWonLast\"] = 0\n",
    "\n",
    "for index, row in dataset.iterrows():\n",
    "    home_team = row[\"Home Team\"]\n",
    "    visitor_team = row[\"Visitor Team\"]\n",
    "\n",
    "    teams = tuple(sorted([home_team, visitor_team]))\n",
    "\n",
    "    row[\"HomeTeamWonLast\"] = 1 if last_match_winner[teams] == row[\"Home Team\"] else 0\n",
    "    dataset.ix[index] = row\n",
    "\n",
    "    winner = row[\"Home Team\"] if row[\"HomeWin\"] else row [\"Visitor Team\"]\n",
    "    last_match_winner[teams] = winner"
   ]
  },
  {
   "cell_type": "markdown",
   "metadata": {},
   "source": [
    "### 再再次使用分类器"
   ]
  },
  {
   "cell_type": "code",
   "execution_count": 20,
   "metadata": {},
   "outputs": [
    {
     "name": "stdout",
     "output_type": "stream",
     "text": [
      "Accuracy: 58.8%\n"
     ]
    }
   ],
   "source": [
    "X_lastwinner = dataset[[\"HomeTeamRanksHigher\", \"HomeTeamWonLast\"]].values\n",
    "\n",
    "clf = DecisionTreeClassifier(random_state=14)\n",
    "\n",
    "scores = cross_val_score(clf, X_lastwinner, y_true, scoring='accuracy')\n",
    "print(\"Accuracy: {0:.1f}%\".format(np.mean(scores) * 100))"
   ]
  },
  {
   "cell_type": "markdown",
   "metadata": {},
   "source": [
    "### 检验分类效果"
   ]
  },
  {
   "cell_type": "markdown",
   "metadata": {},
   "source": [
    "决策树在训练数据量很大的情况下，能否得到有效的分类模型。\n",
    "\n",
    "我们将会为决策树添加球队，以检测它是否能整合新增的信息。"
   ]
  },
  {
   "cell_type": "markdown",
   "metadata": {},
   "source": [
    "- 用 LabelEncoder转换器 把字符串类型的球队名转化为整型\n",
    "- 用 OneHotEncoder转换器 把整数转换为二进制数字"
   ]
  },
  {
   "cell_type": "code",
   "execution_count": 26,
   "metadata": {
    "collapsed": true
   },
   "outputs": [],
   "source": [
    "encoding = LabelEncoder()\n",
    "encoding.fit(dataset[\"Home Team\"].values)\n",
    "\n",
    "home_teams = encoding.transform(dataset[\"Home Team\"].values)\n",
    "visitor_teams = encoding.transform(dataset[\"Visitor Team\"].values)\n",
    "X_teams = np.vstack([home_teams, visitor_teams]).T"
   ]
  },
  {
   "cell_type": "code",
   "execution_count": 27,
   "metadata": {},
   "outputs": [
    {
     "name": "stdout",
     "output_type": "stream",
     "text": [
      "Accuracy: 59.0%\n"
     ]
    }
   ],
   "source": [
    "onehot = OneHotEncoder()\n",
    "X_teams_expanded = onehot.fit_transform(X_teams).todense()\n",
    "\n",
    "clf = DecisionTreeClassifier(random_state=14)\n",
    "\n",
    "scores = cross_val_score(clf, X_teams_expanded, y_true, scoring='accuracy')\n",
    "\n",
    "print(\"Accuracy: {0:.1f}%\".format(np.mean(scores) * 100))"
   ]
  },
  {
   "cell_type": "markdown",
   "metadata": {},
   "source": [
    "### 结果分析"
   ]
  },
  {
   "cell_type": "markdown",
   "metadata": {},
   "source": [
    "正确率接近60%，比基准值要高，但是没有之前的效果好。\n",
    "\n",
    "原因可能在于特征数增加后，决策树处理不当。"
   ]
  },
  {
   "cell_type": "code",
   "execution_count": null,
   "metadata": {
    "collapsed": true
   },
   "outputs": [],
   "source": [
    "\n"
   ]
  }
 ],
 "metadata": {
  "kernelspec": {
   "display_name": "Python 3",
   "language": "python",
   "name": "python3"
  },
  "language_info": {
   "codemirror_mode": {
    "name": "ipython",
    "version": 3
   },
   "file_extension": ".py",
   "mimetype": "text/x-python",
   "name": "python",
   "nbconvert_exporter": "python",
   "pygments_lexer": "ipython3",
   "version": "3.5.3"
  }
 },
 "nbformat": 4,
 "nbformat_minor": 2
}
